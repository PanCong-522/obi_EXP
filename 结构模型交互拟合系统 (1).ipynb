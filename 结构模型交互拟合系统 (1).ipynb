{
 "cells": [
  {
   "cell_type": "markdown",
   "metadata": {},
   "source": [
    "# 二房室三指数模型结构拟合交互系统\n",
    "\n",
    "本 Notebook 实现交互式拟合：\n",
    "- 模型形式：$C(t) = N \\cdot e^{-ka \\cdot t} + L \\cdot e^{-\\alpha \\cdot t} + M \\cdot e^{-\\beta \\cdot t}$\n",
    "- 可调参数：$N, ka, L, \\alpha, M, \\beta$\n",
    "- 动态滑块实时更新拟合曲线与 $R^2$\n"
   ]
  },
  {
   "cell_type": "code",
   "execution_count": 1,
   "metadata": {},
   "outputs": [
    {
     "data": {
      "application/vnd.jupyter.widget-view+json": {
       "model_id": "e664915ff7e94c50a165c8dafc2c3aa8",
       "version_major": 2,
       "version_minor": 0
      },
      "text/plain": [
       "interactive(children=(FloatSlider(value=-64.259, description='N', max=500.0, min=-500.0, step=0.01), FloatSlid…"
      ]
     },
     "metadata": {},
     "output_type": "display_data"
    },
    {
     "data": {
      "text/plain": [
       "<function __main__.interactive_fit(N, ka, L, alpha, M, beta)>"
      ]
     },
     "execution_count": 1,
     "metadata": {},
     "output_type": "execute_result"
    }
   ],
   "source": [
    "import numpy as np\n",
    "import matplotlib.pyplot as plt\n",
    "from ipywidgets import interact, FloatSlider\n",
    "from sklearn.metrics import r2_score\n",
    "\n",
    "import matplotlib\n",
    "matplotlib.rcParams['font.sans-serif'] = ['SimHei']  # 设置支持中文的字体（如黑体）\n",
    "matplotlib.rcParams['axes.unicode_minus'] = False     # 正常显示负号\n",
    "\n",
    "# 原始数据\n",
    "t_data = np.array([0.25, 0.5, 1.0, 2.5, 3.5, 5.0, 7.5, 10, 15, 20, 25, 30, 40, 50, 60])\n",
    "C_data = np.array([14.0, 19.5, 37.5, 61.5, 71.5, 69.2, 59.5, 50.1, 36.6, 27.5, 21.5, 16.4, 11.5, 8.3, 5.9])\n",
    "\n",
    "# 三指数函数\n",
    "def model(t, N, ka, L, alpha, M, beta):\n",
    "    return N * np.exp(-ka * t) + L * np.exp(-alpha * t) + M * np.exp(-beta * t)\n",
    "\n",
    "# 交互拟合函数\n",
    "def interactive_fit(N, ka, L, alpha, M, beta):\n",
    "    t_dense = np.linspace(0, 60, 300)\n",
    "    C_pred = model(t_dense, N, ka, L, alpha, M, beta)\n",
    "    C_fit = model(t_data, N, ka, L, alpha, M, beta)\n",
    "    r2 = r2_score(C_data, C_fit)\n",
    "\n",
    "    plt.figure(figsize=(8, 5))\n",
    "    plt.scatter(t_data, C_data, color='red', label='原始数据')\n",
    "    plt.plot(t_dense, C_pred, label=f'拟合曲线  R2 = {r2:.4f}')\n",
    "    plt.xlabel(\"时间 t (h)\")\n",
    "    plt.ylabel(\"浓度 C(t)\")\n",
    "    plt.title(\"结构模型交互拟合系统\")\n",
    "    plt.legend()\n",
    "    plt.grid(True)\n",
    "    plt.tight_layout()\n",
    "    plt.show()\n",
    "\n",
    "# 设置交互滑块\n",
    "interact(\n",
    "    interactive_fit,\n",
    "    N=FloatSlider(min=-500, max=500, step=0.01, value=-64.259, description='N', readout_format='.2f'),\n",
    "    ka=FloatSlider(min=0.01, max=2, step=0.001, value=1.632, description='ka', readout_format='.3f'),\n",
    "    L=FloatSlider(min=-500, max=500, step=0.01, value=18.144, description='L', readout_format='.2f'),\n",
    "    alpha=FloatSlider(min=0.01, max=2, step=0.001, value=0.047, description='alpha', readout_format='.3f'),\n",
    "    M=FloatSlider(min=-500, max=500, step=0.01, value=53.883, description='M', readout_format='.2f'),\n",
    "    beta=FloatSlider(min=0.01, max=2, step=0.001, value=0.038, description='beta', readout_format='.3f')\n",
    ")\n"
   ]
  }
 ],
 "metadata": {
  "kernelspec": {
   "display_name": "Python 3 (ipykernel)",
   "language": "python",
   "name": "python3"
  },
  "language_info": {
   "codemirror_mode": {
    "name": "ipython",
    "version": 3
   },
   "file_extension": ".py",
   "mimetype": "text/x-python",
   "name": "python",
   "nbconvert_exporter": "python",
   "pygments_lexer": "ipython3",
   "version": "3.12.9"
  }
 },
 "nbformat": 4,
 "nbformat_minor": 4
}
